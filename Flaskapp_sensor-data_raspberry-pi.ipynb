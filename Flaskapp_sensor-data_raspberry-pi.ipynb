{
 "cells": [
  {
   "cell_type": "code",
   "execution_count": 2,
   "id": "b8f77d41-1a5f-425f-8c76-b6326322d44b",
   "metadata": {},
   "outputs": [
    {
     "name": "stdout",
     "output_type": "stream",
     "text": [
      "Requirement already satisfied: pydub in c:\\users\\user\\appdata\\local\\programs\\python\\python310\\lib\\site-packages (0.25.1)\n",
      "Requirement already satisfied: numpy in c:\\users\\user\\appdata\\local\\programs\\python\\python310\\lib\\site-packages (2.0.2)\n",
      "Requirement already satisfied: scipy in c:\\users\\user\\appdata\\local\\programs\\python\\python310\\lib\\site-packages (1.15.1)\n"
     ]
    },
    {
     "name": "stderr",
     "output_type": "stream",
     "text": [
      "WARNING: You are using pip version 21.2.3; however, version 25.0.1 is available.\n",
      "You should consider upgrading via the 'C:\\Users\\User\\AppData\\Local\\Programs\\Python\\Python310\\python.exe -m pip install --upgrade pip' command.\n"
     ]
    },
    {
     "name": "stdout",
     "output_type": "stream",
     "text": [
      "Requirement already satisfied: librosa in c:\\users\\user\\appdata\\local\\programs\\python\\python310\\lib\\site-packages (0.11.0)\n",
      "Requirement already satisfied: numpy in c:\\users\\user\\appdata\\local\\programs\\python\\python310\\lib\\site-packages (2.0.2)\n",
      "Requirement already satisfied: typing_extensions>=4.1.1 in c:\\users\\user\\appdata\\local\\programs\\python\\python310\\lib\\site-packages (from librosa) (4.12.2)\n",
      "Requirement already satisfied: numba>=0.51.0 in c:\\users\\user\\appdata\\local\\programs\\python\\python310\\lib\\site-packages (from librosa) (0.61.0)\n",
      "Requirement already satisfied: soundfile>=0.12.1 in c:\\users\\user\\appdata\\local\\programs\\python\\python310\\lib\\site-packages (from librosa) (0.13.1)\n",
      "Requirement already satisfied: pooch>=1.1 in c:\\users\\user\\appdata\\local\\programs\\python\\python310\\lib\\site-packages (from librosa) (1.8.2)\n",
      "Requirement already satisfied: scikit-learn>=1.1.0 in c:\\users\\user\\appdata\\local\\programs\\python\\python310\\lib\\site-packages (from librosa) (1.6.1)\n",
      "Requirement already satisfied: audioread>=2.1.9 in c:\\users\\user\\appdata\\local\\programs\\python\\python310\\lib\\site-packages (from librosa) (3.0.1)\n",
      "Requirement already satisfied: soxr>=0.3.2 in c:\\users\\user\\appdata\\local\\programs\\python\\python310\\lib\\site-packages (from librosa) (0.5.0.post1)\n",
      "Requirement already satisfied: lazy_loader>=0.1 in c:\\users\\user\\appdata\\local\\programs\\python\\python310\\lib\\site-packages (from librosa) (0.4)\n",
      "Requirement already satisfied: msgpack>=1.0 in c:\\users\\user\\appdata\\local\\programs\\python\\python310\\lib\\site-packages (from librosa) (1.1.0)\n",
      "Requirement already satisfied: scipy>=1.6.0 in c:\\users\\user\\appdata\\local\\programs\\python\\python310\\lib\\site-packages (from librosa) (1.15.1)\n",
      "Requirement already satisfied: joblib>=1.0 in c:\\users\\user\\appdata\\local\\programs\\python\\python310\\lib\\site-packages (from librosa) (1.4.2)\n",
      "Requirement already satisfied: decorator>=4.3.0 in c:\\users\\user\\appdata\\local\\programs\\python\\python310\\lib\\site-packages (from librosa) (5.1.1)\n",
      "Requirement already satisfied: packaging in c:\\users\\user\\appdata\\local\\programs\\python\\python310\\lib\\site-packages (from lazy_loader>=0.1->librosa) (24.2)\n",
      "Requirement already satisfied: llvmlite<0.45,>=0.44.0dev0 in c:\\users\\user\\appdata\\local\\programs\\python\\python310\\lib\\site-packages (from numba>=0.51.0->librosa) (0.44.0)\n",
      "Requirement already satisfied: platformdirs>=2.5.0 in c:\\users\\user\\appdata\\local\\programs\\python\\python310\\lib\\site-packages (from pooch>=1.1->librosa) (4.3.6)\n",
      "Requirement already satisfied: requests>=2.19.0 in c:\\users\\user\\appdata\\local\\programs\\python\\python310\\lib\\site-packages (from pooch>=1.1->librosa) (2.32.3)\n",
      "Requirement already satisfied: certifi>=2017.4.17 in c:\\users\\user\\appdata\\local\\programs\\python\\python310\\lib\\site-packages (from requests>=2.19.0->pooch>=1.1->librosa) (2025.1.31)\n",
      "Requirement already satisfied: urllib3<3,>=1.21.1 in c:\\users\\user\\appdata\\local\\programs\\python\\python310\\lib\\site-packages (from requests>=2.19.0->pooch>=1.1->librosa) (2.3.0)\n",
      "Requirement already satisfied: idna<4,>=2.5 in c:\\users\\user\\appdata\\local\\programs\\python\\python310\\lib\\site-packages (from requests>=2.19.0->pooch>=1.1->librosa) (3.10)\n",
      "Requirement already satisfied: charset-normalizer<4,>=2 in c:\\users\\user\\appdata\\local\\programs\\python\\python310\\lib\\site-packages (from requests>=2.19.0->pooch>=1.1->librosa) (3.4.1)\n",
      "Requirement already satisfied: threadpoolctl>=3.1.0 in c:\\users\\user\\appdata\\local\\programs\\python\\python310\\lib\\site-packages (from scikit-learn>=1.1.0->librosa) (3.5.0)\n",
      "Requirement already satisfied: cffi>=1.0 in c:\\users\\user\\appdata\\local\\programs\\python\\python310\\lib\\site-packages (from soundfile>=0.12.1->librosa) (1.17.1)\n",
      "Requirement already satisfied: pycparser in c:\\users\\user\\appdata\\local\\programs\\python\\python310\\lib\\site-packages (from cffi>=1.0->soundfile>=0.12.1->librosa) (2.22)\n"
     ]
    },
    {
     "name": "stderr",
     "output_type": "stream",
     "text": [
      "WARNING: You are using pip version 21.2.3; however, version 25.0.1 is available.\n",
      "You should consider upgrading via the 'C:\\Users\\User\\AppData\\Local\\Programs\\Python\\Python310\\python.exe -m pip install --upgrade pip' command.\n"
     ]
    }
   ],
   "source": [
    "!pip install pydub numpy scipy\n",
    "!pip install librosa numpy\n"
   ]
  },
  {
   "cell_type": "code",
   "execution_count": 3,
   "id": "359a4e65-606c-48a7-866e-d20f516b4881",
   "metadata": {},
   "outputs": [
    {
     "name": "stdout",
     "output_type": "stream",
     "text": [
      "Requirement already satisfied: flask in c:\\users\\user\\appdata\\local\\programs\\python\\python310\\lib\\site-packages (3.1.0)\n",
      "Collecting fastapi\n",
      "  Using cached fastapi-0.115.12-py3-none-any.whl (95 kB)\n",
      "Requirement already satisfied: uvicorn in c:\\users\\user\\appdata\\local\\programs\\python\\python310\\lib\\site-packages (0.34.0)\n",
      "Requirement already satisfied: requests in c:\\users\\user\\appdata\\local\\programs\\python\\python310\\lib\\site-packages (2.32.3)\n",
      "Collecting pybluez\n",
      "  Using cached PyBluez-0.23.tar.gz (97 kB)\n",
      "Requirement already satisfied: pymongo in c:\\users\\user\\appdata\\local\\programs\\python\\python310\\lib\\site-packages (4.11.3)\n",
      "Requirement already satisfied: itsdangerous>=2.2 in c:\\users\\user\\appdata\\local\\programs\\python\\python310\\lib\\site-packages (from flask) (2.2.0)\n",
      "Requirement already satisfied: Werkzeug>=3.1 in c:\\users\\user\\appdata\\local\\programs\\python\\python310\\lib\\site-packages (from flask) (3.1.3)\n",
      "Requirement already satisfied: click>=8.1.3 in c:\\users\\user\\appdata\\local\\programs\\python\\python310\\lib\\site-packages (from flask) (8.1.8)\n",
      "Requirement already satisfied: Jinja2>=3.1.2 in c:\\users\\user\\appdata\\local\\programs\\python\\python310\\lib\\site-packages (from flask) (3.1.5)\n",
      "Requirement already satisfied: blinker>=1.9 in c:\\users\\user\\appdata\\local\\programs\\python\\python310\\lib\\site-packages (from flask) (1.9.0)\n",
      "Requirement already satisfied: typing-extensions>=4.8.0 in c:\\users\\user\\appdata\\local\\programs\\python\\python310\\lib\\site-packages (from fastapi) (4.12.2)\n",
      "Requirement already satisfied: pydantic!=1.8,!=1.8.1,!=2.0.0,!=2.0.1,!=2.1.0,<3.0.0,>=1.7.4 in c:\\users\\user\\appdata\\local\\programs\\python\\python310\\lib\\site-packages (from fastapi) (2.11.0)\n",
      "Requirement already satisfied: starlette<0.47.0,>=0.40.0 in c:\\users\\user\\appdata\\local\\programs\\python\\python310\\lib\\site-packages (from fastapi) (0.46.1)\n",
      "Requirement already satisfied: h11>=0.8 in c:\\users\\user\\appdata\\local\\programs\\python\\python310\\lib\\site-packages (from uvicorn) (0.14.0)\n",
      "Requirement already satisfied: urllib3<3,>=1.21.1 in c:\\users\\user\\appdata\\local\\programs\\python\\python310\\lib\\site-packages (from requests) (2.3.0)\n",
      "Requirement already satisfied: certifi>=2017.4.17 in c:\\users\\user\\appdata\\local\\programs\\python\\python310\\lib\\site-packages (from requests) (2025.1.31)\n",
      "Requirement already satisfied: charset-normalizer<4,>=2 in c:\\users\\user\\appdata\\local\\programs\\python\\python310\\lib\\site-packages (from requests) (3.4.1)\n",
      "Requirement already satisfied: idna<4,>=2.5 in c:\\users\\user\\appdata\\local\\programs\\python\\python310\\lib\\site-packages (from requests) (3.10)\n",
      "Requirement already satisfied: dnspython<3.0.0,>=1.16.0 in c:\\users\\user\\appdata\\local\\programs\\python\\python310\\lib\\site-packages (from pymongo) (2.7.0)\n",
      "Requirement already satisfied: colorama in c:\\users\\user\\appdata\\local\\programs\\python\\python310\\lib\\site-packages (from click>=8.1.3->flask) (0.4.6)\n",
      "Requirement already satisfied: MarkupSafe>=2.0 in c:\\users\\user\\appdata\\local\\programs\\python\\python310\\lib\\site-packages (from Jinja2>=3.1.2->flask) (3.0.2)\n",
      "Requirement already satisfied: typing-inspection>=0.4.0 in c:\\users\\user\\appdata\\local\\programs\\python\\python310\\lib\\site-packages (from pydantic!=1.8,!=1.8.1,!=2.0.0,!=2.0.1,!=2.1.0,<3.0.0,>=1.7.4->fastapi) (0.4.0)\n",
      "Requirement already satisfied: annotated-types>=0.6.0 in c:\\users\\user\\appdata\\local\\programs\\python\\python310\\lib\\site-packages (from pydantic!=1.8,!=1.8.1,!=2.0.0,!=2.0.1,!=2.1.0,<3.0.0,>=1.7.4->fastapi) (0.7.0)\n",
      "Requirement already satisfied: pydantic-core==2.33.0 in c:\\users\\user\\appdata\\local\\programs\\python\\python310\\lib\\site-packages (from pydantic!=1.8,!=1.8.1,!=2.0.0,!=2.0.1,!=2.1.0,<3.0.0,>=1.7.4->fastapi) (2.33.0)\n",
      "Requirement already satisfied: anyio<5,>=3.6.2 in c:\\users\\user\\appdata\\local\\programs\\python\\python310\\lib\\site-packages (from starlette<0.47.0,>=0.40.0->fastapi) (4.8.0)\n",
      "Requirement already satisfied: exceptiongroup>=1.0.2 in c:\\users\\user\\appdata\\local\\programs\\python\\python310\\lib\\site-packages (from anyio<5,>=3.6.2->starlette<0.47.0,>=0.40.0->fastapi) (1.2.2)\n",
      "Requirement already satisfied: sniffio>=1.1 in c:\\users\\user\\appdata\\local\\programs\\python\\python310\\lib\\site-packages (from anyio<5,>=3.6.2->starlette<0.47.0,>=0.40.0->fastapi) (1.3.1)\n",
      "Building wheels for collected packages: pybluez\n",
      "  Building wheel for pybluez (setup.py): started\n",
      "  Building wheel for pybluez (setup.py): finished with status 'error'\n",
      "  Running setup.py clean for pybluez\n",
      "Failed to build pybluez\n",
      "Installing collected packages: pybluez, fastapi\n",
      "    Running setup.py install for pybluez: started\n",
      "    Running setup.py install for pybluez: finished with status 'error'\n"
     ]
    },
    {
     "name": "stderr",
     "output_type": "stream",
     "text": [
      "  ERROR: Command errored out with exit status 1:\n",
      "   command: 'C:\\Users\\User\\AppData\\Local\\Programs\\Python\\Python310\\python.exe' -u -c 'import io, os, sys, setuptools, tokenize; sys.argv[0] = '\"'\"'C:\\\\Users\\\\User\\\\AppData\\\\Local\\\\Temp\\\\pip-install-e4faze4m\\\\pybluez_2f4620e52bd7415c9fd684d00bf1749a\\\\setup.py'\"'\"'; __file__='\"'\"'C:\\\\Users\\\\User\\\\AppData\\\\Local\\\\Temp\\\\pip-install-e4faze4m\\\\pybluez_2f4620e52bd7415c9fd684d00bf1749a\\\\setup.py'\"'\"';f = getattr(tokenize, '\"'\"'open'\"'\"', open)(__file__) if os.path.exists(__file__) else io.StringIO('\"'\"'from setuptools import setup; setup()'\"'\"');code = f.read().replace('\"'\"'\\r\\n'\"'\"', '\"'\"'\\n'\"'\"');f.close();exec(compile(code, __file__, '\"'\"'exec'\"'\"'))' bdist_wheel -d 'C:\\Users\\User\\AppData\\Local\\Temp\\pip-wheel-v6em763m'\n",
      "       cwd: C:\\Users\\User\\AppData\\Local\\Temp\\pip-install-e4faze4m\\pybluez_2f4620e52bd7415c9fd684d00bf1749a\\\n",
      "  Complete output (28 lines):\n",
      "  running bdist_wheel\n",
      "  running build\n",
      "  running build_py\n",
      "  creating build\n",
      "  creating build\\lib.win-amd64-3.10\n",
      "  creating build\\lib.win-amd64-3.10\\bluetooth\n",
      "  copying bluetooth\\ble.py -> build\\lib.win-amd64-3.10\\bluetooth\n",
      "  copying bluetooth\\bluez.py -> build\\lib.win-amd64-3.10\\bluetooth\n",
      "  copying bluetooth\\btcommon.py -> build\\lib.win-amd64-3.10\\bluetooth\n",
      "  copying bluetooth\\macos.py -> build\\lib.win-amd64-3.10\\bluetooth\n",
      "  copying bluetooth\\msbt.py -> build\\lib.win-amd64-3.10\\bluetooth\n",
      "  copying bluetooth\\widcomm.py -> build\\lib.win-amd64-3.10\\bluetooth\n",
      "  copying bluetooth\\__init__.py -> build\\lib.win-amd64-3.10\\bluetooth\n",
      "  C:\\Users\\User\\AppData\\Local\\Programs\\Python\\Python310\\lib\\site-packages\\setuptools\\lib2to3_ex.py:36: SetuptoolsDeprecationWarning: 2to3 support is deprecated. If the project still requires Python 2 support, please migrate to a single-codebase solution or employ an independent conversion process.\n",
      "    warnings.warn(\n",
      "  Fixing build\\lib.win-amd64-3.10\\bluetooth\\ble.py build\\lib.win-amd64-3.10\\bluetooth\\bluez.py build\\lib.win-amd64-3.10\\bluetooth\\btcommon.py build\\lib.win-amd64-3.10\\bluetooth\\macos.py build\\lib.win-amd64-3.10\\bluetooth\\msbt.py build\\lib.win-amd64-3.10\\bluetooth\\widcomm.py build\\lib.win-amd64-3.10\\bluetooth\\__init__.py\n",
      "  Skipping optional fixer: buffer\n",
      "  Skipping optional fixer: idioms\n",
      "  Skipping optional fixer: set_literal\n",
      "  Skipping optional fixer: ws_comma\n",
      "  Fixing build\\lib.win-amd64-3.10\\bluetooth\\ble.py build\\lib.win-amd64-3.10\\bluetooth\\bluez.py build\\lib.win-amd64-3.10\\bluetooth\\btcommon.py build\\lib.win-amd64-3.10\\bluetooth\\macos.py build\\lib.win-amd64-3.10\\bluetooth\\msbt.py build\\lib.win-amd64-3.10\\bluetooth\\widcomm.py build\\lib.win-amd64-3.10\\bluetooth\\__init__.py\n",
      "  Skipping optional fixer: buffer\n",
      "  Skipping optional fixer: idioms\n",
      "  Skipping optional fixer: set_literal\n",
      "  Skipping optional fixer: ws_comma\n",
      "  running build_ext\n",
      "  building 'bluetooth._msbt' extension\n",
      "  error: Microsoft Visual C++ 14.0 or greater is required. Get it with \"Microsoft C++ Build Tools\": https://visualstudio.microsoft.com/visual-cpp-build-tools/\n",
      "  ----------------------------------------\n",
      "  ERROR: Failed building wheel for pybluez\n",
      "    ERROR: Command errored out with exit status 1:\n",
      "     command: 'C:\\Users\\User\\AppData\\Local\\Programs\\Python\\Python310\\python.exe' -u -c 'import io, os, sys, setuptools, tokenize; sys.argv[0] = '\"'\"'C:\\\\Users\\\\User\\\\AppData\\\\Local\\\\Temp\\\\pip-install-e4faze4m\\\\pybluez_2f4620e52bd7415c9fd684d00bf1749a\\\\setup.py'\"'\"'; __file__='\"'\"'C:\\\\Users\\\\User\\\\AppData\\\\Local\\\\Temp\\\\pip-install-e4faze4m\\\\pybluez_2f4620e52bd7415c9fd684d00bf1749a\\\\setup.py'\"'\"';f = getattr(tokenize, '\"'\"'open'\"'\"', open)(__file__) if os.path.exists(__file__) else io.StringIO('\"'\"'from setuptools import setup; setup()'\"'\"');code = f.read().replace('\"'\"'\\r\\n'\"'\"', '\"'\"'\\n'\"'\"');f.close();exec(compile(code, __file__, '\"'\"'exec'\"'\"'))' install --record 'C:\\Users\\User\\AppData\\Local\\Temp\\pip-record-38cig6df\\install-record.txt' --single-version-externally-managed --compile --install-headers 'C:\\Users\\User\\AppData\\Local\\Programs\\Python\\Python310\\Include\\pybluez'\n",
      "         cwd: C:\\Users\\User\\AppData\\Local\\Temp\\pip-install-e4faze4m\\pybluez_2f4620e52bd7415c9fd684d00bf1749a\\\n",
      "    Complete output (28 lines):\n",
      "    running install\n",
      "    running build\n",
      "    running build_py\n",
      "    creating build\n",
      "    creating build\\lib.win-amd64-3.10\n",
      "    creating build\\lib.win-amd64-3.10\\bluetooth\n",
      "    copying bluetooth\\ble.py -> build\\lib.win-amd64-3.10\\bluetooth\n",
      "    copying bluetooth\\bluez.py -> build\\lib.win-amd64-3.10\\bluetooth\n",
      "    copying bluetooth\\btcommon.py -> build\\lib.win-amd64-3.10\\bluetooth\n",
      "    copying bluetooth\\macos.py -> build\\lib.win-amd64-3.10\\bluetooth\n",
      "    copying bluetooth\\msbt.py -> build\\lib.win-amd64-3.10\\bluetooth\n",
      "    copying bluetooth\\widcomm.py -> build\\lib.win-amd64-3.10\\bluetooth\n",
      "    copying bluetooth\\__init__.py -> build\\lib.win-amd64-3.10\\bluetooth\n",
      "    C:\\Users\\User\\AppData\\Local\\Programs\\Python\\Python310\\lib\\site-packages\\setuptools\\lib2to3_ex.py:36: SetuptoolsDeprecationWarning: 2to3 support is deprecated. If the project still requires Python 2 support, please migrate to a single-codebase solution or employ an independent conversion process.\n",
      "      warnings.warn(\n",
      "    Fixing build\\lib.win-amd64-3.10\\bluetooth\\ble.py build\\lib.win-amd64-3.10\\bluetooth\\bluez.py build\\lib.win-amd64-3.10\\bluetooth\\btcommon.py build\\lib.win-amd64-3.10\\bluetooth\\macos.py build\\lib.win-amd64-3.10\\bluetooth\\msbt.py build\\lib.win-amd64-3.10\\bluetooth\\widcomm.py build\\lib.win-amd64-3.10\\bluetooth\\__init__.py\n",
      "    Skipping optional fixer: buffer\n",
      "    Skipping optional fixer: idioms\n",
      "    Skipping optional fixer: set_literal\n",
      "    Skipping optional fixer: ws_comma\n",
      "    Fixing build\\lib.win-amd64-3.10\\bluetooth\\ble.py build\\lib.win-amd64-3.10\\bluetooth\\bluez.py build\\lib.win-amd64-3.10\\bluetooth\\btcommon.py build\\lib.win-amd64-3.10\\bluetooth\\macos.py build\\lib.win-amd64-3.10\\bluetooth\\msbt.py build\\lib.win-amd64-3.10\\bluetooth\\widcomm.py build\\lib.win-amd64-3.10\\bluetooth\\__init__.py\n",
      "    Skipping optional fixer: buffer\n",
      "    Skipping optional fixer: idioms\n",
      "    Skipping optional fixer: set_literal\n",
      "    Skipping optional fixer: ws_comma\n",
      "    running build_ext\n",
      "    building 'bluetooth._msbt' extension\n",
      "    error: Microsoft Visual C++ 14.0 or greater is required. Get it with \"Microsoft C++ Build Tools\": https://visualstudio.microsoft.com/visual-cpp-build-tools/\n",
      "    ----------------------------------------\n",
      "ERROR: Command errored out with exit status 1: 'C:\\Users\\User\\AppData\\Local\\Programs\\Python\\Python310\\python.exe' -u -c 'import io, os, sys, setuptools, tokenize; sys.argv[0] = '\"'\"'C:\\\\Users\\\\User\\\\AppData\\\\Local\\\\Temp\\\\pip-install-e4faze4m\\\\pybluez_2f4620e52bd7415c9fd684d00bf1749a\\\\setup.py'\"'\"'; __file__='\"'\"'C:\\\\Users\\\\User\\\\AppData\\\\Local\\\\Temp\\\\pip-install-e4faze4m\\\\pybluez_2f4620e52bd7415c9fd684d00bf1749a\\\\setup.py'\"'\"';f = getattr(tokenize, '\"'\"'open'\"'\"', open)(__file__) if os.path.exists(__file__) else io.StringIO('\"'\"'from setuptools import setup; setup()'\"'\"');code = f.read().replace('\"'\"'\\r\\n'\"'\"', '\"'\"'\\n'\"'\"');f.close();exec(compile(code, __file__, '\"'\"'exec'\"'\"'))' install --record 'C:\\Users\\User\\AppData\\Local\\Temp\\pip-record-38cig6df\\install-record.txt' --single-version-externally-managed --compile --install-headers 'C:\\Users\\User\\AppData\\Local\\Programs\\Python\\Python310\\Include\\pybluez' Check the logs for full command output.\n",
      "WARNING: You are using pip version 21.2.3; however, version 25.0.1 is available.\n",
      "You should consider upgrading via the 'C:\\Users\\User\\AppData\\Local\\Programs\\Python\\Python310\\python.exe -m pip install --upgrade pip' command.\n"
     ]
    }
   ],
   "source": [
    "!pip install flask fastapi uvicorn requests pybluez pymongo\n"
   ]
  },
  {
   "cell_type": "code",
   "execution_count": 4,
   "id": "55c17a59-94b7-47f5-907a-e1b0e89792bf",
   "metadata": {},
   "outputs": [
    {
     "name": "stdout",
     "output_type": "stream",
     "text": [
      "Requirement already satisfied: pyaudio in c:\\users\\user\\appdata\\local\\programs\\python\\python310\\lib\\site-packages (0.2.14)\n"
     ]
    },
    {
     "name": "stderr",
     "output_type": "stream",
     "text": [
      "WARNING: You are using pip version 21.2.3; however, version 25.0.1 is available.\n",
      "You should consider upgrading via the 'C:\\Users\\User\\AppData\\Local\\Programs\\Python\\Python310\\python.exe -m pip install --upgrade pip' command.\n"
     ]
    }
   ],
   "source": [
    "!pip install pyaudio\n"
   ]
  },
  {
   "cell_type": "code",
   "execution_count": null,
   "id": "c8b1cfaf-d0d7-45f0-911c-e1f8a2ba03f9",
   "metadata": {},
   "outputs": [
    {
     "name": "stderr",
     "output_type": "stream",
     "text": [
      "WARNING: This is a development server. Do not use it in a production deployment. Use a production WSGI server instead.\n",
      " * Running on all addresses (0.0.0.0)\n",
      " * Running on http://127.0.0.1:5000\n",
      " * Running on http://192.168.2.227:5000\n",
      "Press CTRL+C to quit\n",
      "192.168.2.227 - - [29/Mar/2025 15:07:21] \"POST /upload_image HTTP/1.1\" 200 -\n",
      "192.168.2.227 - - [29/Mar/2025 15:07:32] \"POST /upload_image HTTP/1.1\" 200 -\n",
      "192.168.2.227 - - [29/Mar/2025 15:07:36] \"POST /upload_image HTTP/1.1\" 200 -\n",
      "192.168.2.227 - - [29/Mar/2025 15:07:40] \"POST /upload_image HTTP/1.1\" 200 -\n",
      "192.168.2.227 - - [29/Mar/2025 15:09:33] \"POST /upload_audio HTTP/1.1\" 200 -\n"
     ]
    },
    {
     "name": "stdout",
     "output_type": "stream",
     "text": [
      "Fire alarm sound detected!\n"
     ]
    },
    {
     "name": "stderr",
     "output_type": "stream",
     "text": [
      "192.168.2.227 - - [29/Mar/2025 15:09:50] \"POST /upload_audio HTTP/1.1\" 200 -\n"
     ]
    },
    {
     "name": "stdout",
     "output_type": "stream",
     "text": [
      "Fire alarm sound detected!\n"
     ]
    },
    {
     "name": "stderr",
     "output_type": "stream",
     "text": [
      "192.168.2.227 - - [29/Mar/2025 15:09:58] \"POST /upload_audio HTTP/1.1\" 200 -\n"
     ]
    },
    {
     "name": "stdout",
     "output_type": "stream",
     "text": [
      "Fire alarm sound detected!\n"
     ]
    }
   ],
   "source": [
    "from flask import Flask, request, jsonify\n",
    "import os\n",
    "import cv2  # For capturing images via camera\n",
    "import pyaudio  # For capturing audio\n",
    "import wave  # For audio file saving\n",
    "import librosa  # For audio processing\n",
    "import numpy as np  # For numerical operations\n",
    "\n",
    "app = Flask(__name__)\n",
    "\n",
    "# Directory where images and audio will be saved\n",
    "image_upload_folder = 'uploads/images'\n",
    "audio_upload_folder = 'uploads/audio'\n",
    "\n",
    "# Create directories if they don't exist\n",
    "os.makedirs(image_upload_folder, exist_ok=True)\n",
    "os.makedirs(audio_upload_folder, exist_ok=True)\n",
    "\n",
    "@app.route(\"/\")\n",
    "def home():\n",
    "    return \"Raspberry Pi Web Server is Running!\"\n",
    "\n",
    "# Endpoint to receive sensor data\n",
    "@app.route(\"/sensor_data\", methods=[\"POST\"])\n",
    "def receive_data():\n",
    "    data = request.json\n",
    "    print(\"Received Data:\", data)\n",
    "    return jsonify({\"status\": \"success\", \"message\": \"Data received!\"})\n",
    "\n",
    "# Endpoint for uploading audio file\n",
    "@app.route('/upload_audio', methods=['POST'])\n",
    "def upload_audio():\n",
    "    if 'audio' not in request.files:\n",
    "        return \"No audio file found\", 400\n",
    "    audio = request.files['audio']\n",
    "    if audio.filename == '':\n",
    "        return \"No selected file\", 400\n",
    "    audio_path = os.path.join(audio_upload_folder, audio.filename)\n",
    "    audio.save(audio_path)\n",
    "\n",
    "    # Perform audio processing (fire alarm detection)\n",
    "    alarm_detected = process_audio(audio_path)\n",
    "    if alarm_detected:\n",
    "        return jsonify({\"status\": \"success\", \"message\": \"Audio file successfully uploaded, Fire alarm detected!\"}), 200\n",
    "    else:\n",
    "        return jsonify({\"status\": \"success\", \"message\": \"Audio file successfully uploaded, No fire alarm detected.\"}), 200\n",
    "\n",
    "# Endpoint for uploading image file\n",
    "@app.route('/upload_image', methods=['POST'])\n",
    "def upload_image():\n",
    "    if 'image' not in request.files:\n",
    "        return \"No image file found\", 400\n",
    "    image = request.files['image']\n",
    "    if image.filename == '':\n",
    "        return \"No selected file\", 400\n",
    "    image_path = os.path.join(image_upload_folder, image.filename)\n",
    "    image.save(image_path)\n",
    "    return \"Image file successfully uploaded\", 200\n",
    "\n",
    "# Endpoint to capture audio automatically (using pyaudio)\n",
    "@app.route('/capture_audio', methods=['GET'])\n",
    "def capture_audio():\n",
    "    # Set up audio recording (e.g., 5 seconds of recording)\n",
    "    duration = 5  # seconds\n",
    "    fs = 44100  # Sample rate (standard for audio recording)\n",
    "\n",
    "    # Set up PyAudio for recording\n",
    "    p = pyaudio.PyAudio()\n",
    "    stream = p.open(format=pyaudio.paInt16,\n",
    "                    channels=1,\n",
    "                    rate=fs,\n",
    "                    input=True,\n",
    "                    frames_per_buffer=1024)\n",
    "    \n",
    "    print(\"Recording...\")\n",
    "    frames = []\n",
    "    for i in range(0, int(fs / 1024 * duration)):\n",
    "        data = stream.read(1024)\n",
    "        frames.append(data)\n",
    "\n",
    "    print(\"Recording complete.\")\n",
    "    stream.stop_stream()\n",
    "    stream.close()\n",
    "    p.terminate()\n",
    "\n",
    "    # Save the captured audio to a .wav file\n",
    "    audio_filename = \"captured_audio.wav\"\n",
    "    audio_path = os.path.join(audio_upload_folder, audio_filename)\n",
    "    wf = wave.open(audio_path, 'wb')\n",
    "    wf.setnchannels(1)\n",
    "    wf.setsampwidth(p.get_sample_size(pyaudio.paInt16))\n",
    "    wf.setframerate(fs)\n",
    "    wf.writeframes(b''.join(frames))\n",
    "    wf.close()\n",
    "\n",
    "    # Perform audio processing (fire alarm detection)\n",
    "    alarm_detected = process_audio(audio_path)\n",
    "    if alarm_detected:\n",
    "        return jsonify({\"status\": \"success\", \"message\": \"Audio captured and saved, Fire alarm detected.\", \"file_path\": audio_path}), 200\n",
    "    else:\n",
    "        return jsonify({\"status\": \"success\", \"message\": \"Audio captured and saved, No fire alarm detected.\", \"file_path\": audio_path}), 200\n",
    "\n",
    "# Endpoint to capture image automatically (using OpenCV)\n",
    "@app.route('/capture_image', methods=['GET'])\n",
    "def capture_image():\n",
    "    # Initialize the camera (0 is the default camera)\n",
    "    cap = cv2.VideoCapture(0)\n",
    "\n",
    "    # Check if the camera is opened successfully\n",
    "    if not cap.isOpened():\n",
    "        return jsonify({\"status\": \"error\", \"message\": \"Could not access camera.\"}), 400\n",
    "\n",
    "    # Capture a frame\n",
    "    ret, frame = cap.read()\n",
    "    if not ret:\n",
    "        return jsonify({\"status\": \"error\", \"message\": \"Failed to capture image.\"}), 400\n",
    "\n",
    "    # Save the captured image\n",
    "    image_filename = \"captured_image.jpg\"\n",
    "    image_path = os.path.join(image_upload_folder, image_filename)\n",
    "    cv2.imwrite(image_path, frame)\n",
    "\n",
    "    # Release the camera and return a response\n",
    "    cap.release()\n",
    "    return jsonify({\"status\": \"success\", \"message\": \"Image captured and saved.\", \"file_path\": image_path}), 200\n",
    "\n",
    "def process_audio(audio_path):\n",
    "    # Load the audio file for processing\n",
    "    audio, sr = librosa.load(audio_path, sr=None)\n",
    "\n",
    "    # Compute the Short-Time Fourier Transform (STFT)\n",
    "    stft = np.abs(librosa.stft(audio))\n",
    "\n",
    "    # Compute the Mel-frequency cepstral coefficients (MFCCs) for detecting features like fire alarm sounds\n",
    "    mfccs = librosa.feature.mfcc(S=librosa.power_to_db(stft), sr=sr, n_mfcc=13)\n",
    "\n",
    "    # Calculate mean of MFCCs to summarize the audio characteristics\n",
    "    mfccs_mean = np.mean(mfccs, axis=1)\n",
    "\n",
    "    # Here, a threshold-based approach could be used to detect specific characteristics of a fire alarm sound\n",
    "    # Example: Check for high-frequency patterns in MFCCs or other characteristics\n",
    "    if np.any(mfccs_mean > 15):  # This is an arbitrary threshold, adjust based on real data\n",
    "        print(\"Fire alarm sound detected!\")\n",
    "        return True\n",
    "\n",
    "    print(\"No fire alarm detected.\")\n",
    "    return False\n",
    "\n",
    "if __name__ == \"__main__\":\n",
    "    from werkzeug.serving import run_simple\n",
    "    run_simple(\"0.0.0.0\", 5000, app)\n"
   ]
  },
  {
   "cell_type": "code",
   "execution_count": null,
   "id": "80e2f513-ccc7-4a42-9e39-acb5910b86bc",
   "metadata": {},
   "outputs": [],
   "source": []
  }
 ],
 "metadata": {
  "kernelspec": {
   "display_name": "Python 3 (ipykernel)",
   "language": "python",
   "name": "python3"
  },
  "language_info": {
   "codemirror_mode": {
    "name": "ipython",
    "version": 3
   },
   "file_extension": ".py",
   "mimetype": "text/x-python",
   "name": "python",
   "nbconvert_exporter": "python",
   "pygments_lexer": "ipython3",
   "version": "3.10.0rc2"
  }
 },
 "nbformat": 4,
 "nbformat_minor": 5
}
